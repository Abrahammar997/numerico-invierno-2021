{
  "nbformat": 4,
  "nbformat_minor": 0,
  "metadata": {
    "colab": {
      "name": "ChainCode2Points.ipynb",
      "provenance": [],
      "authorship_tag": "ABX9TyOE0oA3rjJHcHDeUrXx5xd6",
      "include_colab_link": true
    },
    "kernelspec": {
      "name": "python3",
      "display_name": "Python 3"
    },
    "language_info": {
      "name": "python"
    }
  },
  "cells": [
    {
      "cell_type": "markdown",
      "metadata": {
        "id": "view-in-github",
        "colab_type": "text"
      },
      "source": [
        "<a href=\"https://colab.research.google.com/github/Abrahammar997/numerico-invierno-2021/blob/main/ChainCode2Points.ipynb\" target=\"_parent\"><img src=\"https://colab.research.google.com/assets/colab-badge.svg\" alt=\"Open In Colab\"/></a>"
      ]
    },
    {
      "cell_type": "code",
      "metadata": {
        "id": "3utp_Qudvq7l"
      },
      "source": [
        "import numpy as np\n",
        "import matplotlib.pyplot as plt"
      ],
      "execution_count": 2,
      "outputs": []
    },
    {
      "cell_type": "code",
      "metadata": {
        "id": "e5DfS8oovyPy"
      },
      "source": [
        "def ChainCode2Point(chain,init_point=[0,0]):\n",
        "  directions = [[1,0], #0\n",
        "                [1,1], #1\n",
        "                [0,1], #2\n",
        "                [-1,1], #3\n",
        "                [-1,0], #4\n",
        "                [-1,-1], #5\n",
        "                [0,-1], #6\n",
        "                [1,-1]] #7\n",
        "  chain = str(chain)\n",
        "  result = [init_point]\n",
        "  for d in chain:\n",
        "    d = int(d)\n",
        "    result.append(\n",
        "        [\n",
        "         result[-1][0]+directions[d][0],\n",
        "         result[-1][1]+directions[d][1]\n",
        "        ]\n",
        "    )\n",
        "  return np.array(result)"
      ],
      "execution_count": 3,
      "outputs": []
    },
    {
      "cell_type": "code",
      "metadata": {
        "id": "AFeitMoaxU88"
      },
      "source": [
        "example = ChainCode2Point(554543201101111)"
      ],
      "execution_count": 4,
      "outputs": []
    },
    {
      "cell_type": "code",
      "metadata": {
        "colab": {
          "base_uri": "https://localhost:8080/",
          "height": 265
        },
        "id": "e5cK5qNhxmlG",
        "outputId": "864f832a-b91a-4e46-f10b-5e0badcc965a"
      },
      "source": [
        "plt.plot(example[:,0],example[:,1])\n",
        "plt.show()"
      ],
      "execution_count": 6,
      "outputs": [
        {
          "output_type": "display_data",
          "data": {
            "image/png": "[encoded data removed]",
            "text/plain": [
              "<Figure size 432x288 with 1 Axes>"
            ]
          },
          "metadata": {
            "needs_background": "light"
          }
        }
      ]
    }
  ]
}