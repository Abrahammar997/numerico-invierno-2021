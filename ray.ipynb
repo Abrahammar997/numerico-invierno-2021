{
  "nbformat": 4,
  "nbformat_minor": 0,
  "metadata": {
    "colab": {
      "name": "Figura_prueba.ipynb",
      "provenance": [],
      "collapsed_sections": [],
      "authorship_tag": "ABX9TyMnl0JbRArI4oZipQaGaH67",
      "include_colab_link": true
    },
    "kernelspec": {
      "name": "python3",
      "display_name": "Python 3"
    },
    "language_info": {
      "name": "python"
    }
  },
  "cells": [
    {
      "cell_type": "markdown",
      "metadata": {
        "id": "view-in-github",
        "colab_type": "text"
      },
      "source": [
        "<a href=\"https://colab.research.google.com/github/Abrahammar997/numerico-invierno-2021/blob/main/ray.ipynb\" target=\"_parent\"><img src=\"https://colab.research.google.com/assets/colab-badge.svg\" alt=\"Open In Colab\"/></a>"
      ]
    },
    {
      "cell_type": "code",
      "metadata": {
        "id": "owsd2f_IYpls"
      },
      "source": [
        "import numpy as np\n",
        "import matplotlib.pyplot as plt"
      ],
      "execution_count": null,
      "outputs": []
    },
    {
      "cell_type": "code",
      "metadata": {
        "id": "c5ktzw01Y117"
      },
      "source": [
        "C = np.array(\n",
        "    [\n",
        "     [2,2],\n",
        "     [3,2],\n",
        "     [4,3],\n",
        "     [5,3],\n",
        "     [5,4],\n",
        "     [5,5],\n",
        "     [4,5],\n",
        "     [3,6],\n",
        "     [2,6],\n",
        "     [2,7],\n",
        "     [3,8],\n",
        "     [4,9],\n",
        "     [5,9],\n",
        "     [6,9],\n",
        "     [7,9],\n",
        "     [8,8],\n",
        "     [8,7],\n",
        "     [7,7],\n",
        "     [6,7],\n",
        "     [5,7],\n",
        "     [4,7],\n",
        "     [5,6],\n",
        "     [6,6],\n",
        "     [6,5],\n",
        "     [6,4],\n",
        "     [6,3],\n",
        "     [5,3],\n",
        "     [5,2],\n",
        "     [4,2],\n",
        "     [3,2]\n",
        "    ]\n",
        ")"
      ],
      "execution_count": null,
      "outputs": []
    },
    {
      "cell_type": "code",
      "metadata": {
        "colab": {
          "base_uri": "https://localhost:8080/",
          "height": 265
        },
        "id": "7TdSF1IycAp-",
        "outputId": "14e3be4f-99b4-47f0-bc42-1a6db0b600c2"
      },
      "source": [
        "plt.plot(C[:,0],C[:,1],'o-')\n",
        "plt.grid()\n",
        "plt.show()"
      ],
      "execution_count": null,
      "outputs": [
        {
          "output_type": "display_data",
          "data": {
            "image/png": "[encoded data removed]",
            "text/plain": [
              "<Figure size 432x288 with 1 Axes>"
            ]
          },
          "metadata": {
            "needs_background": "light"
          }
        }
      ]
    },
    {
      "cell_type": "code",
      "metadata": {
        "id": "06JkFtTWcNB1"
      },
      "source": [
        "def l(C,i,k):\n",
        "  n = C.shape[0]\n",
        "  return np.norm(C[(i-k)%n,:]-C[(i+k)%n,:])\n",
        "\n",
        "def d(C,i,k):\n",
        "  v1 = C[(i+k)%n,:]-C[(i-k)%n,:]\n",
        "  v2 = C[i%n,:]-C[(i-k)%n,:]\n",
        "  np.norm(v1-(v1 @ v2 )*v2/np.norm(v2))\n",
        "\n"
      ],
      "execution_count": null,
      "outputs": []
    },
    {
      "cell_type": "code",
      "metadata": {
        "id": "3XVd8eM9rT8f"
      },
      "source": [
        "def step2Dominio(C,i):\n",
        "  k=0\n",
        "  cond1=True\n",
        "  cond2=True\n",
        "  while (not(con1 or cond2)): #?\n",
        "    k += 1\n",
        "\n",
        "    lik = l(C,i,k)\n",
        "    lik1 = l(C,i,k+1)\n",
        "    dik = d(C,i,k)\n",
        "    dik1 = d(C,i,k+1)\n",
        "\n",
        "    cond1 =  lik >= lik1  #Booleano\n",
        "    if(dik>0):\n",
        "      cond2 =  dik/lik >= dik1/lik1 #Booleano\n",
        "    elif(dik<0):\n",
        "      cond2 =  dik/lik <= dik1/lik1 #Booleano\n",
        "    else:\n",
        "      cond2 = False\n",
        "  return k"
      ],
      "execution_count": null,
      "outputs": []
    },
    {
      "cell_type": "code",
      "metadata": {
        "id": "HGDwgXJTsrs2"
      },
      "source": [
        "def angle_f(C,i):\n",
        "  ci = C[i,:]-C[i-1,:]\n",
        "  theta = \n",
        "\n",
        "def CUR_i_k(C,i,k):\n",
        "  Curv = 0\n",
        "  for j in range(1,k+1):\n",
        "    Curv += angle_f(C,i-j)\n",
        "  for j in range(1,k+1):\n",
        "    Curv += -angle_f(C,i+j)\n",
        "  Curv = (1/k)*Curv\n",
        "  return Curv"
      ],
      "execution_count": null,
      "outputs": []
    },
    {
      "cell_type": "code",
      "metadata": {
        "id": "Lfe3e3p-wggl"
      },
      "source": [
        "def theta(v1,v2):\n",
        "  return np.arccos((v1@v2)/(np.norm(v1)*np.norm(v2)))\n",
        "\n",
        "def puntos_derecha(C,i):\n",
        "  Ri = C[i+1,:]-C[i,:]\n",
        "  j=1\n",
        "  cond1 = False\n",
        "  cond2 = False\n",
        "  while(not(cond1 and cond2)):\n",
        "    Rij = C[i+j,:]-C[i,:]\n",
        "    Rijmenos1 = C[i+j-1,:]-C[i,:]\n",
        "    Rijmas1 = C[i+j+1,:]-C[i,:]\n",
        "\n",
        "    tethaj = theta(Rij,Ri)\n",
        "    tethajmenos1 = theta(Rijmenos1,Ri)\n",
        "    tethajmas1 = theta(Rijmas1,Ri)\n",
        "\n",
        "    cond1 = tethajmenos1 < tethaj #bool\n",
        "    cond2 = tethaj <= tethajmas1\n",
        "    j += 1\n",
        "  return j"
      ],
      "execution_count": null,
      "outputs": []
    }
  ]
}