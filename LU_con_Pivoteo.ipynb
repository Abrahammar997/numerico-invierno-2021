{
  "nbformat": 4,
  "nbformat_minor": 0,
  "metadata": {
    "colab": {
      "name": "LU con Pivoteo.ipynb",
      "provenance": [],
      "authorship_tag": "ABX9TyMMttsR2Y+FK39zB5yr14Ed",
      "include_colab_link": true
    },
    "kernelspec": {
      "name": "python3",
      "display_name": "Python 3"
    },
    "language_info": {
      "name": "python"
    }
  },
  "cells": [
    {
      "cell_type": "markdown",
      "metadata": {
        "id": "view-in-github",
        "colab_type": "text"
      },
      "source": [
        "<a href=\"https://colab.research.google.com/github/Abrahammar997/numerico-invierno-2021/blob/main/LU_con_Pivoteo.ipynb\" target=\"_parent\"><img src=\"https://colab.research.google.com/assets/colab-badge.svg\" alt=\"Open In Colab\"/></a>"
      ]
    },
    {
      "cell_type": "code",
      "metadata": {
        "id": "qG2Vttk-YP3Z"
      },
      "source": [
        "import numpy as np"
      ],
      "execution_count": 1,
      "outputs": []
    },
    {
      "cell_type": "markdown",
      "metadata": {
        "id": "VmweC33XYWlE"
      },
      "source": [
        "https://stackoverflow.com/questions/28441509/how-to-implement-lu-decomposition-with-partial-pivoting-in-python\n"
      ]
    },
    {
      "cell_type": "code",
      "metadata": {
        "id": "zeDaHODfYV5w"
      },
      "source": [
        "def lu_factor(A):\n",
        "    \"\"\"\n",
        "        LU factorization with partial pivorting\n",
        "\n",
        "        Overwrite A with: \n",
        "            U (upper triangular) and (unit Lower triangular) L \n",
        "        Return [LU,piv] \n",
        "            Where piv is 1d numpy array with row swap indices \n",
        "    \"\"\"\n",
        "    n = A.shape[0]\n",
        "    piv = np.arange(0,n)\n",
        "    for k in range(n-1):\n",
        "\n",
        "        # piv\n",
        "        max_row_index = np.argmax(abs(A[k:n,k])) + k\n",
        "        piv[[k,max_row_index]] = piv[[max_row_index,k]]\n",
        "        A[[k,max_row_index]] = A[[max_row_index,k]]\n",
        "\n",
        "        # LU \n",
        "        for i in range(k+1,n):          \n",
        "            A[i,k] = A[i,k]/A[k,k]      \n",
        "            for j in range(k+1,n):      \n",
        "                A[i,j] -= A[i,k]*A[k,j] \n",
        "\n",
        "    return [A,piv]"
      ],
      "execution_count": 2,
      "outputs": []
    },
    {
      "cell_type": "code",
      "metadata": {
        "id": "VsfwJtBRYdop"
      },
      "source": [
        "def ufsub(L,b):\n",
        "    \"\"\" Unit row oriented forward substitution \"\"\"\n",
        "    for i in range(L.shape[0]): \n",
        "        for j in range(i):\n",
        "            b[i] -= L[i,j]*b[j]\n",
        "    return b\n",
        "\n"
      ],
      "execution_count": 3,
      "outputs": []
    },
    {
      "cell_type": "code",
      "metadata": {
        "id": "UbTjpF2tYgL6"
      },
      "source": [
        "def bsub(U,y):\n",
        "    \"\"\" Row oriented backward substitution \"\"\"\n",
        "    for i in range(U.shape[0]-1,-1,-1): \n",
        "        for j in range(i+1, U.shape[1]):\n",
        "            y[i] -= U[i,j]*y[j]\n",
        "        y[i] = y[i]/U[i,i]\n",
        "    return y"
      ],
      "execution_count": 4,
      "outputs": []
    },
    {
      "cell_type": "code",
      "metadata": {
        "id": "WYKImrAYY18-"
      },
      "source": [
        "A = np.array([\n",
        "    [1.0, 1, 1, 0],\n",
        "    [4, -1, 4, 1],\n",
        "    [2, 2, 0, -2],\n",
        "    [8, 3, -1, 5]\n",
        "])\n",
        "\n",
        "b = np.array([\n",
        "    3,\n",
        "    4,\n",
        "    2,\n",
        "    3\n",
        "])"
      ],
      "execution_count": 7,
      "outputs": []
    },
    {
      "cell_type": "code",
      "metadata": {
        "id": "YupsDhmTYklJ"
      },
      "source": [
        "# Partial pivoting\n",
        "LU, piv = lu_factor(A)                      \n",
        "b = b[piv]\n",
        "y = ufsub( LU, b )\n",
        "x = bsub(  LU, y )"
      ],
      "execution_count": 8,
      "outputs": []
    },
    {
      "cell_type": "code",
      "metadata": {
        "colab": {
          "base_uri": "https://localhost:8080/"
        },
        "id": "VDOoGcBjY-6L",
        "outputId": "45d88a22-87e0-440b-f666-e5b7ecc5f688"
      },
      "source": [
        "np.tril(LU, k=-1)"
      ],
      "execution_count": 11,
      "outputs": [
        {
          "output_type": "execute_result",
          "data": {
            "text/plain": [
              "array([[ 0.   ,  0.   ,  0.   ,  0.   ],\n",
              "       [ 0.5  ,  0.   ,  0.   ,  0.   ],\n",
              "       [ 0.25 , -0.5  ,  0.   ,  0.   ],\n",
              "       [ 0.125, -0.25 ,  0.9  ,  0.   ]])"
            ]
          },
          "metadata": {},
          "execution_count": 11
        }
      ]
    },
    {
      "cell_type": "code",
      "metadata": {
        "colab": {
          "base_uri": "https://localhost:8080/"
        },
        "id": "iR72hkZeZErw",
        "outputId": "0bf04c9c-be32-4d60-a484-794c8e2340b9"
      },
      "source": [
        "np.triu(LU)"
      ],
      "execution_count": 13,
      "outputs": [
        {
          "output_type": "execute_result",
          "data": {
            "text/plain": [
              "array([[ 8. ,  3. , -1. ,  5. ],\n",
              "       [ 0. , -2.5,  4.5, -1.5],\n",
              "       [ 0. ,  0. ,  2.5, -4. ],\n",
              "       [ 0. ,  0. ,  0. ,  2.6]])"
            ]
          },
          "metadata": {},
          "execution_count": 13
        }
      ]
    },
    {
      "cell_type": "code",
      "metadata": {
        "id": "0EPGzzjNZcF_"
      },
      "source": [
        ""
      ],
      "execution_count": null,
      "outputs": []
    }
  ]
}