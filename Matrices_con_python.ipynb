{
  "nbformat": 4,
  "nbformat_minor": 0,
  "metadata": {
    "colab": {
      "name": "Matrices con python.ipynb",
      "provenance": [],
      "collapsed_sections": [],
      "authorship_tag": "ABX9TyNnmg1NWtC/cxXXAHlIu/cp",
      "include_colab_link": true
    },
    "kernelspec": {
      "name": "python3",
      "display_name": "Python 3"
    },
    "language_info": {
      "name": "python"
    }
  },
  "cells": [
    {
      "cell_type": "markdown",
      "metadata": {
        "id": "view-in-github",
        "colab_type": "text"
      },
      "source": [
        "<a href=\"https://colab.research.google.com/github/Abrahammar997/numerico-invierno-2021/blob/main/Matrices_con_python.ipynb\" target=\"_parent\"><img src=\"https://colab.research.google.com/assets/colab-badge.svg\" alt=\"Open In Colab\"/></a>"
      ]
    },
    {
      "cell_type": "code",
      "metadata": {
        "id": "HZi4-e4qNJt9"
      },
      "source": [
        "import numpy as np"
      ],
      "execution_count": 1,
      "outputs": []
    },
    {
      "cell_type": "markdown",
      "metadata": {
        "id": "6_pCUUGXNVCv"
      },
      "source": [
        "$$\n",
        "\\boldsymbol{A}=\\left[\\begin{array}{cccc}\n",
        "2 & 1 & 1 & 0 \\\\\n",
        "0 & -1 & 4 & 1 \\\\\n",
        "2 & 2 & 0 & -2 \\\\\n",
        "1 & 3 & -1 & 5\n",
        "\\end{array}\\right], \\quad \\boldsymbol{B}=\\left[\\begin{array}{ccccc}\n",
        "3 & -1 & 0 & 0 & 2 \\\\\n",
        "7 & 1 & 0 & 0 & 2\n",
        "\\end{array}\\right]\n",
        "$$"
      ]
    },
    {
      "cell_type": "code",
      "metadata": {
        "colab": {
          "base_uri": "https://localhost:8080/"
        },
        "id": "QHpzRIU6NSyy",
        "outputId": "b13ad073-21c7-48e3-fbec-bae8839dcc9f"
      },
      "source": [
        "A = np.array([\n",
        "              [2, 1, 1, 0],\n",
        "              [0, -1, 4, 1],\n",
        "              [2, 2, 0, -2],\n",
        "              [1, 3, -1, 5]\n",
        "])\n",
        "\n",
        "B = np.array([\n",
        "              [3, -1, 0, 0, 2],\n",
        "              [7, 1, 0, 0, 2]\n",
        "])\n",
        "\n",
        "v = np.array([np.pi, np.e, 7, 7])\n",
        "\n",
        "print('A=\\n',A,'\\n')\n",
        "print('B=\\n',B,'\\n')\n",
        "print('v=\\n',v,'\\n')"
      ],
      "execution_count": 33,
      "outputs": [
        {
          "output_type": "stream",
          "name": "stdout",
          "text": [
            "A=\n",
            " [[ 2  1  1  0]\n",
            " [ 0 -1  4  1]\n",
            " [ 2  2  0 -2]\n",
            " [ 1  3 -1  5]] \n",
            "\n",
            "B=\n",
            " [[ 3 -1  0  0  2]\n",
            " [ 7  1  0  0  2]] \n",
            "\n",
            "v=\n",
            " [3.14159265 2.71828183 7.         7.        ] \n",
            "\n"
          ]
        }
      ]
    },
    {
      "cell_type": "code",
      "metadata": {
        "id": "IeCPvvU6OrD1"
      },
      "source": [
        "#A.shape\n",
        "#A.size"
      ],
      "execution_count": 26,
      "outputs": []
    },
    {
      "cell_type": "code",
      "metadata": {
        "colab": {
          "base_uri": "https://localhost:8080/"
        },
        "id": "uPRv07rnOMFy",
        "outputId": "383cc00d-f0c5-4277-c8ca-f379e1e81b5d"
      },
      "source": [
        "print('A\\n','renglones=',A.shape[0],', columnas=',A.shape[1],'\\n')\n",
        "print('B\\n','renglones=',B.shape[0],', columnas=',B.shape[1],'\\n')\n",
        "print('v=\\n',v.shape,'\\n')"
      ],
      "execution_count": 34,
      "outputs": [
        {
          "output_type": "stream",
          "name": "stdout",
          "text": [
            "A\n",
            " renglones= 4 , columnas= 4 \n",
            "\n",
            "B\n",
            " renglones= 2 , columnas= 5 \n",
            "\n",
            "v=\n",
            " (4,) \n",
            "\n"
          ]
        }
      ]
    },
    {
      "cell_type": "code",
      "metadata": {
        "colab": {
          "base_uri": "https://localhost:8080/"
        },
        "id": "zpZjHOUrPY6k",
        "outputId": "e3fd6f20-ff31-42d1-bde1-78e0bf613a43"
      },
      "source": [
        "v = np.resize(v,new_shape=(v.size,1))\n",
        "print(v)"
      ],
      "execution_count": 41,
      "outputs": [
        {
          "output_type": "stream",
          "name": "stdout",
          "text": [
            "[[3.14159265]\n",
            " [2.71828183]\n",
            " [7.        ]\n",
            " [7.        ]]\n"
          ]
        }
      ]
    },
    {
      "cell_type": "code",
      "metadata": {
        "colab": {
          "base_uri": "https://localhost:8080/"
        },
        "id": "nvucQ_5OPl_D",
        "outputId": "94a9c2f3-9e44-45ea-fe0c-e660bb6b8906"
      },
      "source": [
        "np.concatenate((A,v),axis=1)"
      ],
      "execution_count": 43,
      "outputs": [
        {
          "output_type": "execute_result",
          "data": {
            "text/plain": [
              "array([[ 2.        ,  1.        ,  1.        ,  0.        ,  3.14159265],\n",
              "       [ 0.        , -1.        ,  4.        ,  1.        ,  2.71828183],\n",
              "       [ 2.        ,  2.        ,  0.        , -2.        ,  7.        ],\n",
              "       [ 1.        ,  3.        , -1.        ,  5.        ,  7.        ]])"
            ]
          },
          "metadata": {},
          "execution_count": 43
        }
      ]
    },
    {
      "cell_type": "code",
      "metadata": {
        "colab": {
          "base_uri": "https://localhost:8080/"
        },
        "id": "XFunkHbpQGbC",
        "outputId": "a4458c56-0fcc-4930-e9f5-156782418a69"
      },
      "source": [
        "print(A,'\\n\\n',A.T)"
      ],
      "execution_count": 45,
      "outputs": [
        {
          "output_type": "stream",
          "name": "stdout",
          "text": [
            "[[ 2  1  1  0]\n",
            " [ 0 -1  4  1]\n",
            " [ 2  2  0 -2]\n",
            " [ 1  3 -1  5]] \n",
            "\n",
            " [[ 2  0  2  1]\n",
            " [ 1 -1  2  3]\n",
            " [ 1  4  0 -1]\n",
            " [ 0  1 -2  5]]\n"
          ]
        }
      ]
    },
    {
      "cell_type": "code",
      "metadata": {
        "colab": {
          "base_uri": "https://localhost:8080/"
        },
        "id": "ZdHKR6JHQtoI",
        "outputId": "c04d8dab-c7a1-4be3-84de-2f99dc7838ee"
      },
      "source": [
        "np.arange(0,10,3)"
      ],
      "execution_count": 48,
      "outputs": [
        {
          "output_type": "execute_result",
          "data": {
            "text/plain": [
              "array([0, 3, 6, 9])"
            ]
          },
          "metadata": {},
          "execution_count": 48
        }
      ]
    },
    {
      "cell_type": "code",
      "metadata": {
        "colab": {
          "base_uri": "https://localhost:8080/"
        },
        "id": "OT1cSgrsQ5SL",
        "outputId": "d8b496cc-7525-4c16-89c8-e18d4539d7c7"
      },
      "source": [
        "np.linspace(0,10,3)"
      ],
      "execution_count": 49,
      "outputs": [
        {
          "output_type": "execute_result",
          "data": {
            "text/plain": [
              "array([ 0.,  5., 10.])"
            ]
          },
          "metadata": {},
          "execution_count": 49
        }
      ]
    },
    {
      "cell_type": "code",
      "metadata": {
        "colab": {
          "base_uri": "https://localhost:8080/"
        },
        "id": "kYkpRgjYRBEI",
        "outputId": "8dc88261-c2d7-4ced-9231-d9300f16864f"
      },
      "source": [
        "print(A,'\\n\\n',\n",
        "      A[2,2],'\\n\\n',\n",
        "      A[1:,3],'\\n\\n',\n",
        "      A[:,3],'\\n\\n',\n",
        "      A[-2:,:],'\\n\\n',)"
      ],
      "execution_count": 55,
      "outputs": [
        {
          "output_type": "stream",
          "name": "stdout",
          "text": [
            "[[ 2  1  1  0]\n",
            " [ 0 -1  4  1]\n",
            " [ 2  2  0 -2]\n",
            " [ 1  3 -1  5]] \n",
            "\n",
            " 0 \n",
            "\n",
            " [ 1 -2  5] \n",
            "\n",
            " [ 0  1 -2  5] \n",
            "\n",
            " [[ 2  2  0 -2]\n",
            " [ 1  3 -1  5]] \n",
            "\n",
            "\n"
          ]
        }
      ]
    },
    {
      "cell_type": "code",
      "metadata": {
        "colab": {
          "base_uri": "https://localhost:8080/"
        },
        "id": "vVC4TdyaRJLi",
        "outputId": "ac9913f8-998f-492c-cbed-7c6f9ed7f3d1"
      },
      "source": [
        "C = np.diag(v=np.array([1,2,3,4]),\n",
        "            k=0)\n",
        "print(C)"
      ],
      "execution_count": 61,
      "outputs": [
        {
          "output_type": "stream",
          "name": "stdout",
          "text": [
            "[[1 0 0 0]\n",
            " [0 2 0 0]\n",
            " [0 0 3 0]\n",
            " [0 0 0 4]]\n"
          ]
        }
      ]
    },
    {
      "cell_type": "code",
      "metadata": {
        "colab": {
          "base_uri": "https://localhost:8080/"
        },
        "id": "SJHlmsA7R_ST",
        "outputId": "fccfa837-bb08-4915-dbd5-f62aeb6ac4cb"
      },
      "source": [
        "A @ A"
      ],
      "execution_count": 67,
      "outputs": [
        {
          "output_type": "execute_result",
          "data": {
            "text/plain": [
              "array([[ 6,  3,  6, -1],\n",
              "       [ 9, 12, -5, -4],\n",
              "       [ 2, -6, 12, -8],\n",
              "       [ 5, 11,  8, 30]])"
            ]
          },
          "metadata": {},
          "execution_count": 67
        }
      ]
    },
    {
      "cell_type": "code",
      "metadata": {
        "colab": {
          "base_uri": "https://localhost:8080/"
        },
        "id": "VagRivUoSUtz",
        "outputId": "34e24067-72f8-42ec-f8c9-486a24d39dd5"
      },
      "source": [
        "np.linalg.matrix_power(C,3)"
      ],
      "execution_count": 68,
      "outputs": [
        {
          "output_type": "execute_result",
          "data": {
            "text/plain": [
              "array([[ 1,  0,  0,  0],\n",
              "       [ 0,  8,  0,  0],\n",
              "       [ 0,  0, 27,  0],\n",
              "       [ 0,  0,  0, 64]])"
            ]
          },
          "metadata": {},
          "execution_count": 68
        }
      ]
    },
    {
      "cell_type": "code",
      "metadata": {
        "id": "-ZkOAjjDSsLe"
      },
      "source": [
        "#A*C\n",
        "#vs\n",
        "#A@C"
      ],
      "execution_count": 77,
      "outputs": []
    },
    {
      "cell_type": "code",
      "metadata": {
        "id": "mAHySswnS743"
      },
      "source": [
        "#A**3\n",
        "#vs\n",
        "#np.linalg.matrix_power(A,3)"
      ],
      "execution_count": 76,
      "outputs": []
    },
    {
      "cell_type": "code",
      "metadata": {
        "id": "E0srfb4jTHny"
      },
      "source": [
        "e_0 = np.resize(\n",
        "    a=np.array([1,0,0,0]),\n",
        "    new_shape=(4,1)\n",
        ")\n",
        "e_1 = np.resize(\n",
        "    a=np.array([0,1,0,0]),\n",
        "    new_shape=(4,1)\n",
        ")\n",
        "e_2 = np.resize(\n",
        "    a=np.array([0,0,1,0]),\n",
        "    new_shape=(4,1)\n",
        ")\n",
        "e_3 = np.resize(\n",
        "    a=np.array([0,0,0,1]),\n",
        "    new_shape=(4,1)\n",
        ")"
      ],
      "execution_count": 91,
      "outputs": []
    },
    {
      "cell_type": "code",
      "metadata": {
        "colab": {
          "base_uri": "https://localhost:8080/"
        },
        "id": "EYcy0L9YYokQ",
        "outputId": "13428496-f942-407c-b44e-6555338dc5be"
      },
      "source": [
        "Column_matrix = np.concatenate((e_0,e_2,e_3),axis=1)\n",
        "print(Column_matrix)"
      ],
      "execution_count": 92,
      "outputs": [
        {
          "output_type": "stream",
          "name": "stdout",
          "text": [
            "[[1 0 0]\n",
            " [0 0 0]\n",
            " [0 1 0]\n",
            " [0 0 1]]\n"
          ]
        }
      ]
    },
    {
      "cell_type": "code",
      "metadata": {
        "colab": {
          "base_uri": "https://localhost:8080/"
        },
        "id": "gNu-i6ZIYpg-",
        "outputId": "64dbad8e-5866-43af-f3bd-2eef43134cd6"
      },
      "source": [
        "#A@Column_matrix\n",
        "#vs\n",
        "#A[:,[0,2,3]]"
      ],
      "execution_count": 95,
      "outputs": [
        {
          "output_type": "execute_result",
          "data": {
            "text/plain": [
              "array([[ 2,  1,  0],\n",
              "       [ 0,  4,  1],\n",
              "       [ 2,  0, -2],\n",
              "       [ 1, -1,  5]])"
            ]
          },
          "metadata": {},
          "execution_count": 95
        }
      ]
    },
    {
      "cell_type": "code",
      "metadata": {
        "colab": {
          "base_uri": "https://localhost:8080/"
        },
        "id": "4GEX_6A0ZHKZ",
        "outputId": "455a05ba-4808-4a20-f1c7-fb96ba816979"
      },
      "source": [
        "Row_matrix = Column_matrix.T\n",
        "print(Row_matrix)"
      ],
      "execution_count": 96,
      "outputs": [
        {
          "output_type": "stream",
          "name": "stdout",
          "text": [
            "[[1 0 0 0]\n",
            " [0 0 1 0]\n",
            " [0 0 0 1]]\n"
          ]
        }
      ]
    },
    {
      "cell_type": "code",
      "metadata": {
        "colab": {
          "base_uri": "https://localhost:8080/"
        },
        "id": "SgXdWJnLaDKl",
        "outputId": "d4d3a0cf-d190-4f90-e9a9-901d052c41cf"
      },
      "source": [
        "#Row_matrix@A\n",
        "#vs\n",
        "#A[[0,2,3],:]"
      ],
      "execution_count": 98,
      "outputs": [
        {
          "output_type": "execute_result",
          "data": {
            "text/plain": [
              "array([[ 2,  1,  1,  0],\n",
              "       [ 2,  2,  0, -2],\n",
              "       [ 1,  3, -1,  5]])"
            ]
          },
          "metadata": {},
          "execution_count": 98
        }
      ]
    },
    {
      "cell_type": "markdown",
      "metadata": {
        "id": "x5j1wdK9anRl"
      },
      "source": [
        "¿Porqué?\n",
        "\n",
        "Usando  que $(\\boldsymbol{R S})^{T}=\\boldsymbol{S}^{T} \\boldsymbol{R}^{T}$. Sea $B=A^T$, con columnas $[b_j]$, notemos como:\n",
        "\n",
        "$$\n",
        "\\left(\\boldsymbol{b}_{j}\\right)^{T}=\\left(\\boldsymbol{B} \\boldsymbol{e}_{j}\\right)^{T}=\\boldsymbol{e}_{j}^{T} \\boldsymbol{B}^{T}=\\boldsymbol{e}_{j}^{T} \\boldsymbol{A}\n",
        "$$\n"
      ]
    },
    {
      "cell_type": "code",
      "metadata": {
        "colab": {
          "base_uri": "https://localhost:8080/"
        },
        "id": "VBa7DtSsaHbW",
        "outputId": "215f681d-ab3b-4323-ec0d-7f3158eecd61"
      },
      "source": [
        "#Row_matrix@A@Column_matrix\n",
        "#vs\n",
        "A[[0,2,3],:][:,[0,2,3]]"
      ],
      "execution_count": 103,
      "outputs": [
        {
          "output_type": "execute_result",
          "data": {
            "text/plain": [
              "array([[ 2,  1,  0],\n",
              "       [ 2,  0, -2],\n",
              "       [ 1, -1,  5]])"
            ]
          },
          "metadata": {},
          "execution_count": 103
        }
      ]
    },
    {
      "cell_type": "markdown",
      "metadata": {
        "id": "LsJpDP_TcDe6"
      },
      "source": [
        "Realize las siguientes operaciones elementales a $A$:\n",
        "\n",
        "$$\n",
        "\\boldsymbol{A}=\\left[\\begin{array}{cccc}\n",
        "2 & 1 & 1 & 0 \\\\\n",
        "0 & -1 & 4 & 1 \\\\\n",
        "2 & 2 & 0 & -2 \\\\\n",
        "1 & 3 & -1 & 5\n",
        "\\end{array}\\right]$$\n",
        "\n",
        "* Multiplique el primer renglón por 0.5.\n",
        "* Sume -2 veces el primer renglon al tercer renglón.\n",
        "* Sume -1 vez el primer renglón al último renglón.\n",
        "\n",
        "Haga lo mismo pero con la matriz aumentada, es decir,\n",
        "\n",
        "$$A | v = \\left[\\begin{array}{cccc|c}\n",
        "2 & 1 & 1 & 0 & \\pi\\\\\n",
        "0 & -1 & 4 & 1 & e\\\\\n",
        "2 & 2 & 0 & -2 & 7\\\\\n",
        "1 & 3 & -1 & 5 & 7\n",
        "\\end{array}\\right]$$"
      ]
    },
    {
      "cell_type": "code",
      "metadata": {
        "id": "llo94qFGemM9"
      },
      "source": [
        ""
      ],
      "execution_count": null,
      "outputs": []
    }
  ]
}