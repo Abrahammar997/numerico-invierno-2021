{
  "nbformat": 4,
  "nbformat_minor": 0,
  "metadata": {
    "colab": {
      "name": "Ray_solucion_persoonal.ipynb",
      "provenance": [],
      "collapsed_sections": [],
      "authorship_tag": "ABX9TyOzpKUQ/c4rupbD775q7BpZ",
      "include_colab_link": true
    },
    "kernelspec": {
      "name": "python3",
      "display_name": "Python 3"
    },
    "language_info": {
      "name": "python"
    }
  },
  "cells": [
    {
      "cell_type": "markdown",
      "metadata": {
        "id": "view-in-github",
        "colab_type": "text"
      },
      "source": [
        "<a href=\"https://colab.research.google.com/github/Abrahammar997/numerico-invierno-2021/blob/main/Ray_solucion_persoonal.ipynb\" target=\"_parent\"><img src=\"https://colab.research.google.com/assets/colab-badge.svg\" alt=\"Open In Colab\"/></a>"
      ]
    },
    {
      "cell_type": "code",
      "metadata": {
        "id": "MYFkjDK2jYua"
      },
      "source": [
        "import numpy as np\n",
        "import matplotlib.pyplot as plt\n",
        "from scipy.signal import argrelextrema"
      ],
      "execution_count": 1,
      "outputs": []
    },
    {
      "cell_type": "code",
      "metadata": {
        "id": "mFZryrucje3x"
      },
      "source": [
        "C = np.array(\n",
        "    [\n",
        "     [2,2],\n",
        "     [3,3],\n",
        "     [4,3],\n",
        "     [5,3],\n",
        "     [5,4],\n",
        "     [5,5],\n",
        "     [4,5],\n",
        "     [3,6],\n",
        "     [2,6],\n",
        "     [2,7],\n",
        "     [3,8],\n",
        "     [4,9],\n",
        "     [5,9],\n",
        "     [6,9],\n",
        "     [7,9],\n",
        "     [8,8],\n",
        "     [8,7],\n",
        "     [7,7],\n",
        "     [6,7],\n",
        "     [5,7],\n",
        "     [4,7],\n",
        "     [5,6],\n",
        "     [6,6],\n",
        "     [6,5],\n",
        "     [6,4],\n",
        "     [6,3],\n",
        "     [6,2],\n",
        "     [5,2],\n",
        "     [4,2],\n",
        "     [3,2]\n",
        "    ]\n",
        ")"
      ],
      "execution_count": 2,
      "outputs": []
    },
    {
      "cell_type": "code",
      "metadata": {
        "colab": {
          "base_uri": "https://localhost:8080/",
          "height": 265
        },
        "id": "babYGdIEjgHr",
        "outputId": "f861997f-ae28-4398-9f50-6d60e971eac7"
      },
      "source": [
        "plt.plot(C[:,0],C[:,1],'o-')\n",
        "plt.grid()\n",
        "plt.show()"
      ],
      "execution_count": 3,
      "outputs": [
        {
          "output_type": "display_data",
          "data": {
            "image/png": "[encoded data removed]",
            "text/plain": [
              "<Figure size 432x288 with 1 Axes>"
            ]
          },
          "metadata": {
            "needs_background": "light"
          }
        }
      ]
    },
    {
      "cell_type": "code",
      "metadata": {
        "id": "Y9FN0vVLjiCF"
      },
      "source": [
        "def theta(v1,v2):\n",
        "  return np.arccos((v1@v2)/(np.linalg.norm(v1)*np.linalg.norm(v2)))\n",
        "\n",
        "def CalcDominioDePuntos(C):\n",
        "  '''\n",
        "  Input: Una curva\n",
        "\n",
        "  Output: Una lista de tuplas del tamaño de vecindad a la izquierda (l) y a la derecha (k)\n",
        "  '''\n",
        "  output = []\n",
        "\n",
        "  n=C.shape[0]\n",
        "\n",
        "  #Para cada punto\n",
        "  for i in range(n):\n",
        "    info_vecindad = [0,0] #(l,d)\n",
        "\n",
        "    #Para el brazo derecho\n",
        "    Ri = C[(i+1) % n,:]-C[i,:]\n",
        "    j=2\n",
        "    #Lo cambiamos porque en el documento empieza en j=2 en vez de 1\n",
        "    cond1 = False\n",
        "    cond2 = False\n",
        "    while(not(cond1 and cond2)):\n",
        "        Rij = C[(i+j) % n,:]-C[i,:]\n",
        "        Rijmenos1 = C[((i+j)-1)% n ,:]-C[i,:]\n",
        "        Rijmas1 = C[((i+j)+1) % n,:]-C[i,:]\n",
        "            \n",
        "        tethaj = theta(Rij,Ri)\n",
        "        tethajmenos1 = theta(Rijmenos1,Ri)\n",
        "        tethajmas1 = theta(Rijmas1,Ri)\n",
        "            \n",
        "        cond1 = tethajmenos1 < tethaj #bool\n",
        "        cond2 = tethaj <= tethajmas1\n",
        "        k = j\n",
        "        j += 1\n",
        "    info_vecindad[1] = k\n",
        "\n",
        "    #Para el brazo izq\n",
        "    Li = C[i-1,:]-C[i,:]\n",
        "    j=2 \n",
        "    cond1 = False\n",
        "    cond2 = False\n",
        "    while(not(cond1 and cond2)):\n",
        "        Lij = C[i-j,:]-C[i,:]\n",
        "        Lijmenos1 = C[i-j-1,:]-C[i,:]\n",
        "        Lijmas1 = C[i-j+1,:]-C[i,:]\n",
        "        \n",
        "        tethaj = theta(Lij,Li)\n",
        "        tethajmenos1 = theta(Lijmenos1,Li)\n",
        "        tethajmas1 = theta(Lijmas1,Li)\n",
        "        \n",
        "        cond1 = tethajmas1 < tethaj #bool\n",
        "        cond2 = tethaj <= tethajmenos1\n",
        "        l = j\n",
        "        j += 1\n",
        "    info_vecindad[0] = l\n",
        "    output.append(info_vecindad)\n",
        "  return np.array(output)"
      ],
      "execution_count": 4,
      "outputs": []
    },
    {
      "cell_type": "code",
      "metadata": {
        "colab": {
          "base_uri": "https://localhost:8080/"
        },
        "id": "DM29OfLfmEk4",
        "outputId": "9b8bd22f-3a9c-429d-a019-8d221025a00f"
      },
      "source": [
        "CalcDominioDePuntos(C)"
      ],
      "execution_count": 5,
      "outputs": [
        {
          "output_type": "execute_result",
          "data": {
            "text/plain": [
              "array([[5, 2],\n",
              "       [2, 3],\n",
              "       [2, 2],\n",
              "       [3, 3],\n",
              "       [2, 2],\n",
              "       [3, 4],\n",
              "       [2, 4],\n",
              "       [4, 2],\n",
              "       [4, 2],\n",
              "       [2, 3],\n",
              "       [2, 2],\n",
              "       [3, 4],\n",
              "       [2, 3],\n",
              "       [3, 2],\n",
              "       [4, 2],\n",
              "       [2, 2],\n",
              "       [2, 5],\n",
              "       [2, 4],\n",
              "       [3, 3],\n",
              "       [4, 2],\n",
              "       [5, 4],\n",
              "       [2, 2],\n",
              "       [2, 5],\n",
              "       [2, 4],\n",
              "       [3, 3],\n",
              "       [4, 2],\n",
              "       [5, 5],\n",
              "       [2, 4],\n",
              "       [3, 3],\n",
              "       [4, 2]])"
            ]
          },
          "metadata": {},
          "execution_count": 5
        }
      ]
    },
    {
      "cell_type": "code",
      "metadata": {
        "id": "2AusvRc8mG2W"
      },
      "source": [
        "def DetectionOfDominantPoints(C,Vecindad_info):\n",
        "  '''\n",
        "  Input: (una curva (C), la vecindad de cada punto)\n",
        "  Output: C2 una curva depurada\n",
        "  '''\n",
        "  n=C.shape[0]\n",
        "\n",
        "  cos_ilk = []\n",
        "\n",
        "  eliminados = np.array([])\n",
        "  for i in range(n):\n",
        "    #Step 1\n",
        "    aik = C[(i+Vecindad_info[i,1]) % n,:]-C[i,:]\n",
        "    bil = C[(i-Vecindad_info[i,0]) % n,:]-C[i,:]\n",
        "    #Step 2\n",
        "    cos_ilk.append(\n",
        "        (aik@bil)/(np.linalg.norm(aik)*np.linalg.norm(bil))\n",
        "    )\n",
        "  cos_ilk = np.array(cos_ilk)\n",
        "  #Step 3\n",
        "  eliminados_1 = np.arange(n)[cos_ilk <= -0.8]\n",
        "  #Step 2\n",
        "  puntos_dominantes_1, = argrelextrema(cos_ilk, np.greater)\n",
        "  if (cos_ilk[0]>cos_ilk[1]) & (cos_ilk[0]>cos_ilk[-1]):\n",
        "    puntos_dominantes_1 = np.concatenate(\n",
        "        (np.array([0]),puntos_dominantes_1)\n",
        "    )\n",
        "  if (cos_ilk[-1]>cos_ilk[0]) & (cos_ilk[0]>cos_ilk[-2]):\n",
        "    puntos_dominantes_1 = np.concatenate(\n",
        "        (puntos_dominantes_1,np.array([-1]))\n",
        "    )\n",
        "  #Step 4\n",
        "  sucesive_points = []\n",
        "  for i in puntos_dominantes_1:\n",
        "    if (i+1)%n in puntos_dominantes_1:\n",
        "      if Vecindad_info[i,:].sum() >= Vecindad_info[(i+1)%n,:].sum():\n",
        "        sucesive_points.append(int(i))\n",
        "      else:\n",
        "        sucesive_points.append(int((i+1)%n))\n",
        "  puntos_dominantes_2 = np.delete(puntos_dominantes_1, sucesive_points)\n",
        "  eliminados_2 = np.delete(np.arange(n), puntos_dominantes_2)\n",
        "  eliminados = np.concatenate(\n",
        "      (eliminados_1, eliminados_2)\n",
        "  )\n",
        "  #Step 6\n",
        "  return np.delete(C,eliminados,axis=0)\n"
      ],
      "execution_count": 8,
      "outputs": []
    },
    {
      "cell_type": "code",
      "metadata": {
        "id": "fXOJnHsuoXis"
      },
      "source": [
        "parte1 = CalcDominioDePuntos(C)\n",
        "parte2 = DetectionOfDominantPoints(C,parte1)"
      ],
      "execution_count": 9,
      "outputs": []
    },
    {
      "cell_type": "code",
      "metadata": {
        "colab": {
          "base_uri": "https://localhost:8080/",
          "height": 265
        },
        "id": "IbvOC0VVvGID",
        "outputId": "30102d0e-f0e9-49fe-f386-87983b2a1094"
      },
      "source": [
        "plt.plot(C[:,0],C[:,1],'o-')\n",
        "plt.plot(parte2[:,0],parte2[:,1],'o-')\n",
        "plt.grid()\n",
        "plt.show()"
      ],
      "execution_count": 10,
      "outputs": [
        {
          "output_type": "display_data",
          "data": {
            "image/png": "[encoded data removed]",
            "text/plain": [
              "<Figure size 432x288 with 1 Axes>"
            ]
          },
          "metadata": {
            "needs_background": "light"
          }
        }
      ]
    }
  ]
}