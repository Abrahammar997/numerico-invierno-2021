{
 "cells": [
  {
   "cell_type": "code",
   "execution_count": 1,
   "id": "f4bbdae7-c1b2-44d9-95e5-3b4ffa7b3298",
   "metadata": {},
   "outputs": [],
   "source": [
    "import numpy as np\n",
    "import matplotlib.pyplot as plt"
   ]
  },
  {
   "cell_type": "markdown",
   "id": "b82cf508-f2bc-4a8f-a343-112f58241aa8",
   "metadata": {
    "tags": []
   },
   "source": [
    "## Problema 1.-\n",
    "\n",
    "Resolver el problema de $Ax=b$ para una matriz diagonal\n",
    "\n",
    "$$\n",
    "A=\\left(\\begin{array}{cccc}\n",
    "a_{11} & & & \\\\\n",
    "& a_{22} & & \\\\\n",
    "& & \\ddots & \\\\\n",
    "& & & a_{n n}\n",
    "\\end{array}\\right)\n",
    "$$"
   ]
  },
  {
   "cell_type": "code",
   "execution_count": 2,
   "id": "aee0a5c8-70db-487d-99b1-45cef944f133",
   "metadata": {},
   "outputs": [
    {
     "name": "stdout",
     "output_type": "stream",
     "text": [
      "[[3 0 0 0]\n",
      " [0 4 0 0]\n",
      " [0 0 2 0]\n",
      " [0 0 0 3]] \n",
      " [[3]\n",
      " [4]\n",
      " [2]\n",
      " [3]]\n"
     ]
    }
   ],
   "source": [
    "A = np.diag(np.array([\n",
    "    3,\n",
    "    4,\n",
    "    2,\n",
    "    3\n",
    "]))\n",
    "b = np.array([[\n",
    "    3,\n",
    "    4,\n",
    "    2,\n",
    "    3\n",
    "]]).T\n",
    "print(A, '\\n', b)"
   ]
  },
  {
   "cell_type": "code",
   "execution_count": 9,
   "id": "e2a8c779-2452-4983-9840-5e4f9744c3aa",
   "metadata": {},
   "outputs": [
    {
     "name": "stdout",
     "output_type": "stream",
     "text": [
      "[[1.]\n",
      " [1.]\n",
      " [1.]\n",
      " [1.]]\n",
      "[[3.]\n",
      " [4.]\n",
      " [2.]\n",
      " [3.]]\n"
     ]
    }
   ],
   "source": [
    "#Solucion:\n",
    "x = np.zeros((4,1))\n",
    "\n",
    "for k in range(4):\n",
    "    x[k,0] = b[k,0]/A[k,k]\n",
    "print(x) \n",
    "print(A@x) #= b"
   ]
  },
  {
   "cell_type": "code",
   "execution_count": 7,
   "id": "53533d40-4395-49b2-ae81-4314dcee00d6",
   "metadata": {},
   "outputs": [
    {
     "name": "stdout",
     "output_type": "stream",
     "text": [
      "0\n",
      "1\n",
      "2\n",
      "3\n",
      "4\n",
      "5\n",
      "6\n",
      "7\n",
      "8\n",
      "9\n"
     ]
    }
   ],
   "source": [
    "for k in range(10): #[0,1,2,3..,9]\n",
    "    print(k)"
   ]
  },
  {
   "cell_type": "markdown",
   "id": "a58d65ed-b96d-4c97-bf92-ea1cd59b5063",
   "metadata": {
    "jp-MarkdownHeadingCollapsed": true,
    "tags": []
   },
   "source": [
    "##### Solution:"
   ]
  },
  {
   "cell_type": "code",
   "execution_count": 13,
   "id": "69249514-3464-4549-ac15-8a78b5a9d6b2",
   "metadata": {},
   "outputs": [
    {
     "name": "stdout",
     "output_type": "stream",
     "text": [
      "[[3.]\n",
      " [4.]\n",
      " [2.]\n",
      " [3.]]\n"
     ]
    }
   ],
   "source": [
    "x = np.zeros((A.shape[1],1))\n",
    "\n",
    "for m in range(A.shape[0]):\n",
    "    x[m,0]=b[m,0]/A[m,m]\n",
    "    \n",
    "print(x)"
   ]
  },
  {
   "cell_type": "markdown",
   "id": "cfd43dfa-038d-4a01-97cd-29828887d7a5",
   "metadata": {
    "tags": []
   },
   "source": [
    "## Problema 2.-\n",
    "\n",
    "Resolver el problema de $Ax=b$ para una matriz superior\n",
    "\n",
    "$$\n",
    "A=\\left(\\begin{array}{cccc}\n",
    "a_{11} & a_{12} & \\cdots & a_{1 n} \\\\\n",
    "& a_{22} & \\ddots & \\vdots \\\\\n",
    "& & \\ddots & \\vdots \\\\\n",
    "& & & a_{n n}\n",
    "\\end{array}\\right)\n",
    "$$"
   ]
  },
  {
   "cell_type": "code",
   "execution_count": 14,
   "id": "09faface-9cad-48c0-8aba-1abf1fd617b4",
   "metadata": {},
   "outputs": [
    {
     "name": "stdout",
     "output_type": "stream",
     "text": [
      "[[1. 1. 1. 1.]\n",
      " [0. 1. 1. 1.]\n",
      " [0. 0. 1. 1.]\n",
      " [0. 0. 0. 1.]] \n",
      " [[3]\n",
      " [4]\n",
      " [2]\n",
      " [3]]\n"
     ]
    }
   ],
   "source": [
    "A = np.triu(\n",
    "    np.ones((4,4))\n",
    "           )\n",
    "b = np.array([[\n",
    "    3,\n",
    "    4,\n",
    "    2,\n",
    "    3\n",
    "]]).T\n",
    "print(A, '\\n', b)"
   ]
  },
  {
   "cell_type": "code",
   "execution_count": 16,
   "id": "ab47ff15-210e-4321-8232-e634ccf41cfd",
   "metadata": {},
   "outputs": [
    {
     "name": "stdout",
     "output_type": "stream",
     "text": [
      "[[-1.]\n",
      " [ 2.]\n",
      " [-1.]\n",
      " [ 3.]]\n",
      "[[3.]\n",
      " [4.]\n",
      " [2.]\n",
      " [3.]]\n"
     ]
    }
   ],
   "source": [
    "#Solucion:\n",
    "x = np.zeros((4,1))\n",
    "\n",
    "x[3,0] = b[3,0]/A[3,3]\n",
    "for k in np.arange(start=2, stop=-1, step=-1):\n",
    "    x[k,0] = (b[k,0] - A[k,(k+1):]@x[(k+1):,0] )/A[k,k]\n",
    "    \n",
    "print(x) \n",
    "print(A@x) #= b"
   ]
  },
  {
   "cell_type": "markdown",
   "id": "edc4fab7-ba3c-4b85-bfe5-3a5e255a8c93",
   "metadata": {
    "jp-MarkdownHeadingCollapsed": true,
    "tags": []
   },
   "source": [
    "##### Solucion:"
   ]
  },
  {
   "cell_type": "code",
   "execution_count": 23,
   "id": "80cd4bfe-14b4-4f91-9a55-2fb13e6d95ef",
   "metadata": {},
   "outputs": [
    {
     "name": "stdout",
     "output_type": "stream",
     "text": [
      "[[3.]\n",
      " [4.]\n",
      " [2.]\n",
      " [3.]]\n"
     ]
    }
   ],
   "source": [
    "x = np.zeros((A.shape[1],1))\n",
    "\n",
    "x[-1,0] = b[-1,0]/A[-1,-1]\n",
    "for m in np.arange(A.shape[0]-1, -1, -1):\n",
    "    x[m,0]=(b[m,0]-A[m,(m+1):]@x[(m+1):]) /A[m,m]\n",
    "    \n",
    "print(A@x)"
   ]
  },
  {
   "cell_type": "markdown",
   "id": "c0e0c580-3505-40f8-a52e-e5ca8f0fe72d",
   "metadata": {},
   "source": [
    "## Problema 3"
   ]
  },
  {
   "cell_type": "markdown",
   "id": "0e977683-9cbd-4027-b8a9-26f517a7686b",
   "metadata": {},
   "source": [
    "Resolver el problema de $Ax=b$ para una matriz inferior\n",
    "\n",
    "$$\n",
    "A=\\left(\\begin{array}{cccc}\n",
    "a_{11} & & & \\\\\n",
    "a_{21} & a_{22} & & \\\\\n",
    "\\vdots & \\ddots & \\ddots & \\\\\n",
    "a_{n 1} & a_{n 2} & \\cdots & a_{n n}\n",
    "\\end{array}\\right)\n",
    "$$"
   ]
  },
  {
   "cell_type": "code",
   "execution_count": 18,
   "id": "2e059f22-f633-4abf-9411-5ffad488efc6",
   "metadata": {},
   "outputs": [
    {
     "name": "stdout",
     "output_type": "stream",
     "text": [
      "[[1. 0. 0. 0.]\n",
      " [1. 1. 0. 0.]\n",
      " [1. 1. 1. 0.]\n",
      " [1. 1. 1. 1.]] \n",
      " [[3]\n",
      " [4]\n",
      " [2]\n",
      " [3]]\n"
     ]
    }
   ],
   "source": [
    "A = np.tril(\n",
    "    np.ones((4,4))\n",
    "           )\n",
    "b = np.array([[\n",
    "    3,\n",
    "    4,\n",
    "    2,\n",
    "    3\n",
    "]]).T\n",
    "print(A, '\\n', b)"
   ]
  },
  {
   "cell_type": "code",
   "execution_count": 20,
   "id": "9c8faa78-b5d7-45e5-a2c1-4d3fb3ad34f3",
   "metadata": {},
   "outputs": [
    {
     "name": "stdout",
     "output_type": "stream",
     "text": [
      "[[ 3.]\n",
      " [ 1.]\n",
      " [-2.]\n",
      " [ 1.]]\n",
      "[[3.]\n",
      " [4.]\n",
      " [2.]\n",
      " [3.]]\n"
     ]
    }
   ],
   "source": [
    "#Solucion:\n",
    "x = np.zeros((4,1))\n",
    "\n",
    "x[0,0] = b[0,0]/A[0,0]\n",
    "for k in np.arange(start=1, stop=3+1, step=1):\n",
    "    x[k,0] = (b[k,0] - A[k,:k]@x[:k,0] )/A[k,k]\n",
    "    \n",
    "print(x) \n",
    "print(A@x) #= b"
   ]
  },
  {
   "cell_type": "markdown",
   "id": "a477f9ce-03c4-4a81-b9ea-a1f2f6d851c5",
   "metadata": {
    "jp-MarkdownHeadingCollapsed": true,
    "tags": []
   },
   "source": [
    "#### Solucion"
   ]
  },
  {
   "cell_type": "code",
   "execution_count": 27,
   "id": "3f8eeee7-f824-4a01-8d18-5be247581cc8",
   "metadata": {},
   "outputs": [
    {
     "name": "stdout",
     "output_type": "stream",
     "text": [
      "[[3.]\n",
      " [4.]\n",
      " [2.]\n",
      " [3.]]\n"
     ]
    }
   ],
   "source": [
    "x = np.zeros((A.shape[1],1))\n",
    "\n",
    "x[0,0] =  b[0,0]/A[0,0]\n",
    "for m in np.arange(1, A.shape[0], 1):\n",
    "    x[m,0]=(b[m,0]-A[m,:m]@x[:m])/A[m,m]\n",
    "print(A@x)"
   ]
  },
  {
   "cell_type": "markdown",
   "id": "82a6bf6e-543e-4a56-aa91-926bad1c3fe2",
   "metadata": {},
   "source": [
    "## Problema 4\n",
    "\n",
    "Resolver\n",
    "\n",
    "$$\n",
    "\\begin{aligned}\n",
    "a_{11} x_{1}+a_{12} x_{2}+\\cdots+a_{1 n} x_{n} &=b_{1}, \\\\\n",
    "a_{21} x_{1}+a_{22} x_{2}+\\cdots+a_{2 n} x_{n} &=b_{2}, \\\\\n",
    "\\vdots &=\\vdots \\\\\n",
    "a_{n 1} x_{1}+a_{n 2} x_{2}+\\cdots+a_{n n} x_{n} &=b_{n},\n",
    "\\end{aligned}\n",
    "$$"
   ]
  },
  {
   "cell_type": "code",
   "execution_count": 28,
   "id": "82cce795-1586-4552-b4f3-0ab8974896d3",
   "metadata": {},
   "outputs": [
    {
     "name": "stdout",
     "output_type": "stream",
     "text": [
      "[[ 2  1  1  0]\n",
      " [ 0 -1  4  1]\n",
      " [ 2  2  0 -2]\n",
      " [ 1  3 -1  5]] \n",
      " [[3]\n",
      " [4]\n",
      " [2]\n",
      " [3]]\n"
     ]
    }
   ],
   "source": [
    "A = np.array([\n",
    "              [2, 1, 1, 0],\n",
    "              [0, -1, 4, 1],\n",
    "              [2, 2, 0, -2],\n",
    "              [1, 3, -1, 5]\n",
    "])\n",
    "b = np.array([[\n",
    "    3,\n",
    "    4,\n",
    "    2,\n",
    "    3\n",
    "]]).T\n",
    "print(A, '\\n', b)"
   ]
  },
  {
   "cell_type": "code",
   "execution_count": null,
   "id": "36281350-11b1-434a-90c2-6713acb2df49",
   "metadata": {},
   "outputs": [],
   "source": []
  }
 ],
 "metadata": {
  "kernelspec": {
   "display_name": "Python 3 (ipykernel)",
   "language": "python",
   "name": "python3"
  },
  "language_info": {
   "codemirror_mode": {
    "name": "ipython",
    "version": 3
   },
   "file_extension": ".py",
   "mimetype": "text/x-python",
   "name": "python",
   "nbconvert_exporter": "python",
   "pygments_lexer": "ipython3",
   "version": "3.8.11"
  }
 },
 "nbformat": 4,
 "nbformat_minor": 5
}
